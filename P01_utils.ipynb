{
  "nbformat": 4,
  "nbformat_minor": 0,
  "metadata": {
    "colab": {
      "provenance": [],
      "authorship_tag": "ABX9TyNsIDNvX/fw5ihPzUZQqhhm"
    },
    "kernelspec": {
      "name": "python3",
      "display_name": "Python 3"
    },
    "language_info": {
      "name": "python"
    }
  },
  "cells": [
    {
      "cell_type": "code",
      "execution_count": null,
      "metadata": {
        "id": "G4Ufkaji4Qw3"
      },
      "outputs": [],
      "source": [
        "import numpy as np\n",
        "import matplotlib.pyplot as plt\n",
        "\n",
        "np.random.seed(0)\n",
        "\n",
        "\n",
        "def make_blobs(n_samples, centers, cluster_std):\n",
        "    # Version simplifiée de la fonction `make_blobs` de scikit-learn\n",
        "    centers = np.array(centers)\n",
        "    n_features = centers.shape[1]\n",
        "    n_centers = centers.shape[0]\n",
        "\n",
        "    X = []\n",
        "    y = []\n",
        "\n",
        "    n_samples_per_center = [int(n_samples // n_centers)] * n_centers\n",
        "    for i in range(n_samples % n_centers):\n",
        "        n_samples_per_center[i] += 1\n",
        "\n",
        "    for i, (n, std) in enumerate(zip(n_samples_per_center, cluster_std)):\n",
        "        X.append(np.random.normal(loc=centers[i], scale=std,\n",
        "                                  size=(n, n_features)))\n",
        "        y += [i] * n\n",
        "\n",
        "    X = np.concatenate(X)\n",
        "    y = np.array(y)\n",
        "\n",
        "    return X, y\n",
        "\n",
        "\n",
        "def lire_donnees(n_individus):\n",
        "    # Moyennes issues de https://liguecontrelobesite.org/actualite/taille-poids-et-tour-de-taille-photographie-2020-des-francais/\n",
        "    X, y = make_blobs(n_samples=n_individus,\n",
        "                      centers=[[164, 64], [177, 79]],\n",
        "                      cluster_std=[[20, 5], [20, 5]])\n",
        "    y_str = np.empty(y.shape, dtype=str)\n",
        "    y_str[y == 0] = \"F\"\n",
        "    y_str[y == 1] = \"H\"\n",
        "    return X, y_str\n",
        "\n",
        "\n",
        "def visualiser_donnees(X, y, X_test=None, nom_fichier=None):\n",
        "    plt.figure()\n",
        "    for sexe in [\"F\", \"H\"]:\n",
        "        plt.scatter(X[y == sexe, 0], X[y == sexe, 1], label=sexe)\n",
        "    if X_test is not None:\n",
        "        plt.scatter(X_test[:, 0], X_test[:, 1], marker=\"x\", color=\"k\")\n",
        "    plt.xlabel(\"Taille\")\n",
        "    plt.ylabel(\"Poids\")\n",
        "    plt.legend(loc=\"upper left\")\n",
        "    if nom_fichier is not None:\n",
        "        plt.savefig(nom_fichier)\n",
        "    else:\n",
        "        plt.show()\n",
        "\n",
        "\n",
        "if __name__ == \"__main__\":\n",
        "    X_train, y_train = lire_donnees(100)\n",
        "    X_test, y_test = lire_donnees(10)\n",
        "    visualiser_donnees(X_train, y_train, X_test, \"dataset.pdf\")\n",
        ""
      ]
    }
  ]
}